{
 "cells": [
  {
   "cell_type": "code",
   "execution_count": 4,
   "metadata": {},
   "outputs": [],
   "source": [
    "import boto3\n",
    "import pandas as pd\n",
    "import pickle  # If using a locally trained model\n",
    "import json\n",
    "from botocore.exceptions import NoCredentialsError\n",
    "\n",
    "# Initialize SageMaker Feature Store Runtime client\n",
    "AWS_REGION = \"us-east-2\"\n",
    "FEATURE_GROUP_NAME = \"CustomerTransactions\"\n",
    "sm_client = boto3.client(\"sagemaker-featurestore-runtime\", region_name=AWS_REGION)"
   ]
  },
  {
   "cell_type": "code",
   "execution_count": 5,
   "metadata": {},
   "outputs": [],
   "source": [
    "# 1. Retrieve Latest Features for a Given Customer ID\n",
    "def get_latest_features(customer_id):\n",
    "    try:\n",
    "        response = sm_client.get_record(\n",
    "            FeatureGroupName=FEATURE_GROUP_NAME,\n",
    "            RecordIdentifierValueAsString=str(customer_id)\n",
    "        )\n",
    "        if \"Record\" not in response:\n",
    "            print(f\"No feature data found for Customer ID {customer_id}\")\n",
    "            return None\n",
    "\n",
    "        # Convert feature list to dictionary\n",
    "        features = {feature[\"FeatureName\"]: feature[\"ValueAsString\"] for feature in response[\"Record\"]}\n",
    "        print(f\"Retrieved Features for Customer {customer_id}: {features}\")\n",
    "\n",
    "        return features\n",
    " \n",
    "    except Exception as e:\n",
    "        print(f\"Error retrieving features: {e}\")\n",
    "        return None\n",
    "\n",
    "# 2. Load Locally Trained Model\n",
    "def load_model():\n",
    "    with open(\"model.pkl\", \"rb\") as model_file:\n",
    "        model = pickle.load(model_file)\n",
    "    print(\"Model loaded successfully.\")\n",
    "    return model\n",
    "\n",
    "# 3. Preprocess Features for Model Prediction\n",
    "def preprocess_features(features):\n",
    "    if not features:\n",
    "        return None\n",
    "\n",
    "    # Convert feature values to float\n",
    "    latest_purchase_value = float(features.get(\"latest_purchase_value\", 0.0))\n",
    "    \n",
    "    # Convert to model input format\n",
    "    X_input = [[latest_purchase_value]]\n",
    "    return X_input\n",
    "\n",
    "# 4. Run Inference Using the Trained Model\n",
    "def run_inference(model, X_input):\n",
    "    if not X_input:\n",
    "        print(\"No valid input features for inference.\")\n",
    "        return None\n",
    "\n",
    "    prediction = model.predict(X_input)\n",
    "    print(f\"Prediction Result: {prediction[0]}\")\n",
    "    return prediction[0]"
   ]
  },
  {
   "cell_type": "code",
   "execution_count": 6,
   "metadata": {},
   "outputs": [
    {
     "name": "stdout",
     "output_type": "stream",
     "text": [
      "Retrieved Features for Customer 86: {'customer_id': '86', 'event_time': '2022-11-28T10:31:26Z', 'latest_purchase_value': '195.82', 'latest_loyalty_score': '8.48'}\n",
      "Model loaded successfully.\n",
      "Prediction Result: 3.2028999999999983\n"
     ]
    },
    {
     "name": "stderr",
     "output_type": "stream",
     "text": [
      "d:\\FAJIG\\Pipedrive\\Solution\\myenv\\Lib\\site-packages\\sklearn\\utils\\validation.py:2739: UserWarning: X does not have valid feature names, but RandomForestRegressor was fitted with feature names\n",
      "  warnings.warn(\n"
     ]
    }
   ],
   "source": [
    "#  Execute the Inference Pipeline\n",
    "customer_id = 86  \n",
    "features = get_latest_features(customer_id)\n",
    "X_input = preprocess_features(features)\n",
    "ml_model = load_model()\n",
    "prediction = run_inference(ml_model, X_input)"
   ]
  },
  {
   "cell_type": "code",
   "execution_count": null,
   "metadata": {},
   "outputs": [],
   "source": []
  }
 ],
 "metadata": {
  "kernelspec": {
   "display_name": "myenv",
   "language": "python",
   "name": "python3"
  },
  "language_info": {
   "codemirror_mode": {
    "name": "ipython",
    "version": 3
   },
   "file_extension": ".py",
   "mimetype": "text/x-python",
   "name": "python",
   "nbconvert_exporter": "python",
   "pygments_lexer": "ipython3",
   "version": "3.13.2"
  }
 },
 "nbformat": 4,
 "nbformat_minor": 2
}
